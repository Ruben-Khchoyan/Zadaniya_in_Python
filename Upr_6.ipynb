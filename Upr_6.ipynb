{
 "cells": [
  {
   "cell_type": "markdown",
   "id": "689e7f25",
   "metadata": {},
   "source": [
    "## Самостоятельное задание #6\n",
    "Задание 1\n",
    "Допишите функцию, которая принимает несколько параметров. Первый параметр - словарь, второй параметр - один из ключей данного словаря. Функция должна выводить значение этого ключа."
   ]
  },
  {
   "cell_type": "code",
   "execution_count": 4,
   "id": "d0e9be08",
   "metadata": {},
   "outputs": [
    {
     "name": "stdout",
     "output_type": "stream",
     "text": [
      "5\n",
      "gd\n",
      "4\n",
      "sdgdgf\n",
      "5\n",
      "dfhfg\n",
      "6\n",
      "fghf\n",
      "7\n",
      "h\n",
      "8\n",
      "{'gd': 4, 'sdgdgf': 5, 'dfhfg': 6, 'fghf': 7, 'h': 8}\n",
      "Значение какого ключа вам нужно?\n",
      "h\n"
     ]
    },
    {
     "data": {
      "text/plain": [
       "8"
      ]
     },
     "execution_count": 4,
     "metadata": {},
     "output_type": "execute_result"
    }
   ],
   "source": [
    "n = int(input())\n",
    "d = {}\n",
    "for i in range(n):\n",
    "    d.setdefault(input(), int(input()))\n",
    "print(d)\n",
    "print('Значение какого ключа вам нужно?')\n",
    "g = input('')\n",
    "d.get(g)"
   ]
  }
 ],
 "metadata": {
  "kernelspec": {
   "display_name": "Python 3 (ipykernel)",
   "language": "python",
   "name": "python3"
  },
  "language_info": {
   "codemirror_mode": {
    "name": "ipython",
    "version": 3
   },
   "file_extension": ".py",
   "mimetype": "text/x-python",
   "name": "python",
   "nbconvert_exporter": "python",
   "pygments_lexer": "ipython3",
   "version": "3.8.12"
  }
 },
 "nbformat": 4,
 "nbformat_minor": 5
}
