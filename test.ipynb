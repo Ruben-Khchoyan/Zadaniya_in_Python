{
 "cells": [
  {
   "cell_type": "markdown",
   "id": "fe22cf54",
   "metadata": {},
   "source": [
    "## Для тестирования"
   ]
  },
  {
   "cell_type": "code",
   "execution_count": 43,
   "id": "a288796d",
   "metadata": {},
   "outputs": [
    {
     "ename": "SyntaxError",
     "evalue": "invalid syntax (Temp/ipykernel_16012/3825823805.py, line 3)",
     "output_type": "error",
     "traceback": [
      "\u001b[1;36m  File \u001b[1;32m\"C:\\Users\\Asus\\AppData\\Local\\Temp/ipykernel_16012/3825823805.py\"\u001b[1;36m, line \u001b[1;32m3\u001b[0m\n\u001b[1;33m    f = int(input()) for a in range(s+1)\u001b[0m\n\u001b[1;37m                     ^\u001b[0m\n\u001b[1;31mSyntaxError\u001b[0m\u001b[1;31m:\u001b[0m invalid syntax\n"
     ]
    }
   ],
   "source": [
    "s = int(input())\n",
    "a = 0\n",
    "f = int(input()) for a in range(s+1)\n",
    "g = int(input()) for a in range(s+1)\n",
    "d = {f[a]:g[a]} for a in range(s+1)\n",
    "print(d)"
   ]
  },
  {
   "cell_type": "code",
   "execution_count": 10,
   "id": "b44c5e91",
   "metadata": {},
   "outputs": [
    {
     "ename": "SyntaxError",
     "evalue": "invalid syntax (Temp/ipykernel_5052/689561449.py, line 8)",
     "output_type": "error",
     "traceback": [
      "\u001b[1;36m  File \u001b[1;32m\"C:\\Users\\Asus\\AppData\\Local\\Temp/ipykernel_5052/689561449.py\"\u001b[1;36m, line \u001b[1;32m8\u001b[0m\n\u001b[1;33m    print(s)\u001b[0m\n\u001b[1;37m    ^\u001b[0m\n\u001b[1;31mSyntaxError\u001b[0m\u001b[1;31m:\u001b[0m invalid syntax\n"
     ]
    }
   ],
   "source": [
    "s = ['sdf','sdfse','sd','hh','hg','d','hgf']\n",
    "f = s.index(max(s))\n",
    "print(f)\n",
    "print(max(s))\n",
    "print(min(s))\n",
    "#print(s)\n",
    "s.insert(s.index(min(s)),s.pop(s.index(max(s)))\n",
    "            print(s)\n",
    "#s.insert(s.index(max(s)),s.pop(s.index(min(s))))\n",
    "#print(s)"
   ]
  },
  {
   "cell_type": "code",
   "execution_count": null,
   "id": "313b76e9",
   "metadata": {},
   "outputs": [],
   "source": [
    "## блииииин"
   ]
  }
 ],
 "metadata": {
  "kernelspec": {
   "display_name": "Python 3 (ipykernel)",
   "language": "python",
   "name": "python3"
  },
  "language_info": {
   "codemirror_mode": {
    "name": "ipython",
    "version": 3
   },
   "file_extension": ".py",
   "mimetype": "text/x-python",
   "name": "python",
   "nbconvert_exporter": "python",
   "pygments_lexer": "ipython3",
   "version": "3.8.12"
  }
 },
 "nbformat": 4,
 "nbformat_minor": 5
}
