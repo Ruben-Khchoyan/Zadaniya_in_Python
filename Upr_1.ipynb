{
 "cells": [
  {
   "cell_type": "markdown",
   "id": "adde2505",
   "metadata": {},
   "source": [
    "## Самостоятельное задание\n",
    "Мы предлагаем вам потренироваться c логическими и побитовыми операторами."
   ]
  },
  {
   "cell_type": "code",
   "execution_count": null,
   "id": "9a40eb55",
   "metadata": {},
   "outputs": [],
   "source": [
    "a = True\n",
    "b = False"
   ]
  },
  {
   "cell_type": "code",
   "execution_count": 31,
   "id": "9f1c8243",
   "metadata": {},
   "outputs": [
    {
     "name": "stdout",
     "output_type": "stream",
     "text": [
      "0\n"
     ]
    }
   ],
   "source": [
    "print (a)"
   ]
  },
  {
   "cell_type": "code",
   "execution_count": 14,
   "id": "9107bd25",
   "metadata": {},
   "outputs": [
    {
     "name": "stdout",
     "output_type": "stream",
     "text": [
      "0\n"
     ]
    }
   ],
   "source": [
    "print ((a and b) or b)"
   ]
  },
  {
   "cell_type": "code",
   "execution_count": 15,
   "id": "d6019326",
   "metadata": {},
   "outputs": [
    {
     "name": "stdout",
     "output_type": "stream",
     "text": [
      "True\n"
     ]
    }
   ],
   "source": [
    "print ((a and b) or not (a and b))"
   ]
  },
  {
   "cell_type": "code",
   "execution_count": 16,
   "id": "a7623f60",
   "metadata": {},
   "outputs": [
    {
     "name": "stdout",
     "output_type": "stream",
     "text": [
      "True\n"
     ]
    }
   ],
   "source": [
    "print (a and b or not (a or b) or b)"
   ]
  },
  {
   "cell_type": "code",
   "execution_count": 17,
   "id": "47c3d2ee",
   "metadata": {},
   "outputs": [
    {
     "name": "stdout",
     "output_type": "stream",
     "text": [
      "True\n"
     ]
    }
   ],
   "source": [
    "print (b and b or not a and (a or b or a) or not (a or b))"
   ]
  },
  {
   "cell_type": "code",
   "execution_count": 18,
   "id": "ee395ac1",
   "metadata": {},
   "outputs": [
    {
     "name": "stdout",
     "output_type": "stream",
     "text": [
      "4\n"
     ]
    }
   ],
   "source": [
    "print (1 << 2)"
   ]
  },
  {
   "cell_type": "code",
   "execution_count": 19,
   "id": "b0acd524",
   "metadata": {},
   "outputs": [
    {
     "name": "stdout",
     "output_type": "stream",
     "text": [
      "0\n"
     ]
    }
   ],
   "source": [
    "print (1 & 0 | 1 >> 1)"
   ]
  },
  {
   "cell_type": "code",
   "execution_count": 20,
   "id": "e6358197",
   "metadata": {},
   "outputs": [
    {
     "name": "stdout",
     "output_type": "stream",
     "text": [
      "1\n"
     ]
    }
   ],
   "source": [
    "print (1 & 0 | 1 >> 0)"
   ]
  },
  {
   "cell_type": "code",
   "execution_count": 21,
   "id": "f5abbec2",
   "metadata": {},
   "outputs": [
    {
     "name": "stdout",
     "output_type": "stream",
     "text": [
      "2\n"
     ]
    }
   ],
   "source": [
    "print (0b101 & 0b111 ^ 0b111 | 0b010)"
   ]
  },
  {
   "cell_type": "code",
   "execution_count": 22,
   "id": "1677fb78",
   "metadata": {},
   "outputs": [
    {
     "name": "stdout",
     "output_type": "stream",
     "text": [
      "var equal 10\n",
      "var more than 10\n"
     ]
    }
   ],
   "source": [
    "var = 10\n",
    "if var == 10:\n",
    "    print(\"var equal 10\")\n",
    "if var < 10:\n",
    "    print(\"var less than 10\")\n",
    "else:\n",
    "    print(\"var more than 10\")"
   ]
  },
  {
   "cell_type": "code",
   "execution_count": 25,
   "id": "a69428fd",
   "metadata": {},
   "outputs": [
    {
     "name": "stdout",
     "output_type": "stream",
     "text": [
      "2\n"
     ]
    }
   ],
   "source": [
    "var = 2 \n",
    "var %= 10\n",
    "print(var) "
   ]
  },
  {
   "cell_type": "code",
   "execution_count": 27,
   "id": "0d1a2254",
   "metadata": {},
   "outputs": [
    {
     "name": "stdout",
     "output_type": "stream",
     "text": [
      "30\n"
     ]
    }
   ],
   "source": [
    "var = 920\n",
    "var //= 30 \n",
    "print(var) "
   ]
  },
  {
   "cell_type": "code",
   "execution_count": 28,
   "id": "0984430c",
   "metadata": {},
   "outputs": [
    {
     "data": {
      "text/plain": [
       "25"
      ]
     },
     "execution_count": 28,
     "metadata": {},
     "output_type": "execute_result"
    }
   ],
   "source": [
    "100 >> 2"
   ]
  }
 ],
 "metadata": {
  "kernelspec": {
   "display_name": "Python 3 (ipykernel)",
   "language": "python",
   "name": "python3"
  },
  "language_info": {
   "codemirror_mode": {
    "name": "ipython",
    "version": 3
   },
   "file_extension": ".py",
   "mimetype": "text/x-python",
   "name": "python",
   "nbconvert_exporter": "python",
   "pygments_lexer": "ipython3",
   "version": "3.8.12"
  }
 },
 "nbformat": 4,
 "nbformat_minor": 5
}
