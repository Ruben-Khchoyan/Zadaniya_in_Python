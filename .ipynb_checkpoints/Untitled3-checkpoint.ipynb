{
 "cells": [
  {
   "cell_type": "markdown",
   "id": "677c8989",
   "metadata": {},
   "source": [
    "## Самостоятельное задание #3\n",
    "Задание 1\n",
    "Допишите функцию, которая принимает массив из 10 чисел и возвращает их сумму."
   ]
  },
  {
   "cell_type": "code",
   "execution_count": 2,
   "id": "5fec159b",
   "metadata": {},
   "outputs": [
    {
     "name": "stdout",
     "output_type": "stream",
     "text": [
      "55\n"
     ]
    }
   ],
   "source": [
    "f = 0\n",
    "for i in range(0,11):\n",
    "    f += i\n",
    "print(f)"
   ]
  },
  {
   "cell_type": "markdown",
   "id": "63e51698",
   "metadata": {},
   "source": [
    "Задание 2\n",
    "Допишите функцию, которая принимает массив чисел и возвращает количество чисел равных нулю."
   ]
  },
  {
   "cell_type": "code",
   "execution_count": 11,
   "id": "9a98e41a",
   "metadata": {},
   "outputs": [
    {
     "name": "stdout",
     "output_type": "stream",
     "text": [
      "3\n",
      "0\n",
      "0\n",
      "1\n",
      "[0, 0, 1]\n",
      "2\n"
     ]
    }
   ],
   "source": [
    "n = int(input())\n",
    "d = 0\n",
    "s = []\n",
    "s = [ int(input()) for i in range(n) ]\n",
    "print (s) \n",
    "for i in s:\n",
    "    if i == 0:\n",
    "        d += 1\n",
    "print(d)"
   ]
  },
  {
   "cell_type": "markdown",
   "id": "49e948b9",
   "metadata": {},
   "source": [
    "Задание 3\n",
    "Напишите программу, в которой задается натуральное число n и выводится лестница из n ступенек, i-я ступенька должна состоять из чисел от 1 до i без пробелов."
   ]
  },
  {
   "cell_type": "code",
   "execution_count": 13,
   "id": "37d2ac68",
   "metadata": {},
   "outputs": [
    {
     "name": "stdout",
     "output_type": "stream",
     "text": [
      "8\n",
      "1\n",
      "12\n",
      "123\n",
      "1234\n",
      "12345\n",
      "123456\n",
      "1234567\n",
      "12345678\n"
     ]
    }
   ],
   "source": [
    "g = int(input())\n",
    "for i in range(1, g + 1):\n",
    "    for j in range(1, i + 1):\n",
    "        print(j, end='')\n",
    "    print()"
   ]
  },
  {
   "cell_type": "markdown",
   "id": "bf4c9e17",
   "metadata": {},
   "source": [
    "Задание 4\n",
    "Напишите программу, в которой задается натуральное число n и выводится пирамида из n ступенек, i-я ступень должна состоять из чисел от 1 до i и обратно без пробелов."
   ]
  },
  {
   "cell_type": "code",
   "execution_count": 14,
   "id": "28a72fd8",
   "metadata": {},
   "outputs": [
    {
     "name": "stdout",
     "output_type": "stream",
     "text": [
      "4\n"
     ]
    }
   ],
   "source": [
    "k = int(input())"
   ]
  }
 ],
 "metadata": {
  "kernelspec": {
   "display_name": "Python 3 (ipykernel)",
   "language": "python",
   "name": "python3"
  },
  "language_info": {
   "codemirror_mode": {
    "name": "ipython",
    "version": 3
   },
   "file_extension": ".py",
   "mimetype": "text/x-python",
   "name": "python",
   "nbconvert_exporter": "python",
   "pygments_lexer": "ipython3",
   "version": "3.8.12"
  }
 },
 "nbformat": 4,
 "nbformat_minor": 5
}
