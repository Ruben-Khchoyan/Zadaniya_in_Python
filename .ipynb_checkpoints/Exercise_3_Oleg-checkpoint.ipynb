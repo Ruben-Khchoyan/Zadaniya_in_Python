{
 "cells": [
  {
   "cell_type": "markdown",
   "id": "305cdfba",
   "metadata": {},
   "source": [
    "Самостоятельное задание №3"
   ]
  },
  {
   "cell_type": "markdown",
   "id": "a0f18bd7",
   "metadata": {},
   "source": [
    "Задание 1"
   ]
  },
  {
   "cell_type": "markdown",
   "id": "315ad7cc",
   "metadata": {},
   "source": [
    "Допишите функцию, которая принимает массив из 10 чисел и возвращает их сумму."
   ]
  },
  {
   "cell_type": "code",
   "execution_count": 20,
   "id": "12b4307e",
   "metadata": {},
   "outputs": [
    {
     "name": "stdout",
     "output_type": "stream",
     "text": [
      "array sum = 45\n"
     ]
    }
   ],
   "source": [
    "vsum = 0\n",
    "for i in range (0,10):\n",
    "    vsum += i\n",
    "print (\"array sum =\",vsum)\n",
    "    "
   ]
  },
  {
   "cell_type": "markdown",
   "id": "0a2dc066",
   "metadata": {},
   "source": [
    "Задание 2"
   ]
  },
  {
   "cell_type": "markdown",
   "id": "86ed5b11",
   "metadata": {},
   "source": [
    "Допишите функцию, которая принимает массив чисел и возвращает количество чисел равных нулю."
   ]
  },
  {
   "cell_type": "code",
   "execution_count": 21,
   "id": "1e9027eb",
   "metadata": {},
   "outputs": [],
   "source": [
    "a = (1, 3, 0, 0, 3, 0, 42, 4, 12, 1)"
   ]
  },
  {
   "cell_type": "code",
   "execution_count": 27,
   "id": "e8e0c293",
   "metadata": {},
   "outputs": [
    {
     "name": "stdout",
     "output_type": "stream",
     "text": [
      "3\n"
     ]
    }
   ],
   "source": [
    "ammountZero = 0 #переменная - количество нулей\n",
    "for i in a:\n",
    "    if i==0: #проверка, есть ли 0 в массиве\n",
    "        ammountZero += 1\n",
    "print (ammountZero)"
   ]
  },
  {
   "cell_type": "markdown",
   "id": "8ed5b437",
   "metadata": {},
   "source": [
    "Задание 3"
   ]
  },
  {
   "cell_type": "markdown",
   "id": "bd035dbd",
   "metadata": {},
   "source": [
    "Напишите программу, в которой задается натуральное число n и выводится лестница из n ступенек, i-я ступенька должна состоять из чисел от 1 до i без пробелов."
   ]
  },
  {
   "cell_type": "code",
   "execution_count": 1,
   "id": "f97fd0a2",
   "metadata": {},
   "outputs": [],
   "source": [
    "n = 5"
   ]
  },
  {
   "cell_type": "code",
   "execution_count": 2,
   "id": "5bfbc249",
   "metadata": {},
   "outputs": [
    {
     "name": "stdout",
     "output_type": "stream",
     "text": [
      "\n",
      "1\n",
      "12\n",
      "123\n",
      "1234\n",
      "12345\n"
     ]
    }
   ],
   "source": [
    "for i in range(n+1): #цикл повторяется n раз, i - сколько в строке будет символов\n",
    "    number = 1\n",
    "    for j in range(i): #заполнение строки\n",
    "        print(number, end=\"\")\n",
    "        number += 1\n",
    "    print(\"\") #следующая строка"
   ]
  },
  {
   "cell_type": "markdown",
   "id": "b1f42aa6",
   "metadata": {},
   "source": [
    "Задание 4"
   ]
  },
  {
   "cell_type": "markdown",
   "id": "cbe09a52",
   "metadata": {},
   "source": [
    "Напишите программу, в которой задается натуральное число n и выводится пирамида из n ступенек, i-я ступень должна состоять из чисел от 1 до i и обратно без пробелов."
   ]
  },
  {
   "cell_type": "code",
   "execution_count": 135,
   "id": "d021bb67",
   "metadata": {
    "scrolled": true
   },
   "outputs": [
    {
     "name": "stdout",
     "output_type": "stream",
     "text": [
      "1\n",
      "121\n",
      "12321\n",
      "1234321\n",
      "123454321\n"
     ]
    }
   ],
   "source": [
    "for i in range(n): #цикл повторяется n раз\n",
    "    number = 1\n",
    "    check = 0 #проверка достижения максимального числа в строке\n",
    "    for j in range(i*2+1): #заполнение строки\n",
    "        print(number, end=\"\")\n",
    "        if number <= i and check == 0: #работает если строка не достигла своего максимального значения\n",
    "            number += 1\n",
    "        else:\n",
    "            number -= 1\n",
    "            check = 1 #операция if заблокирована\n",
    "    print(\"\") #следующая строка"
   ]
  },
  {
   "cell_type": "markdown",
   "id": "138e57b7",
   "metadata": {},
   "source": [
    "Задание 5"
   ]
  },
  {
   "cell_type": "markdown",
   "id": "c974dd2e",
   "metadata": {},
   "source": [
    "Напишите программу, в которой задается натуральное число n и выводится ромб из n*2-1 ступенек, i-я ступень должна состоять из чисел от 1 до i и обратно без пробелов."
   ]
  },
  {
   "cell_type": "code",
   "execution_count": 77,
   "id": "c1a8480d",
   "metadata": {},
   "outputs": [],
   "source": [
    "n = 5"
   ]
  },
  {
   "cell_type": "code",
   "execution_count": 170,
   "id": "25426ebc",
   "metadata": {},
   "outputs": [
    {
     "name": "stdout",
     "output_type": "stream",
     "text": [
      "    1    \n",
      "   121   \n",
      "  12321  \n",
      " 1234321 \n",
      "123454321\n",
      " 12345 \n",
      "  12345  \n",
      "   12345   \n",
      "    12345    \n"
     ]
    }
   ],
   "source": [
    "# n*2-1 - кол-во строк и символов в строке\n",
    "# n - середина ромба\n",
    "for i in range(n*2-1):\n",
    "    number = 1\n",
    "    check = 0 #проверка достижения максимального числа в строке\n",
    "    checkLine = 0 #проверка достижения середины ромба\n",
    "    \n",
    "    spaceAmount = abs(n - i - 1) #кол-во пробелов в строке (половина)\n",
    "          \n",
    "    for j in range(spaceAmount): #написать необходимое кол-во пробелов ДО ромба\n",
    "        print(\" \", end=\"\")\n",
    "        \n",
    "        # программа из предыдущего задания\n",
    "        \n",
    "    for j in range(i*2+1): #заполнение строки\n",
    "        if number <= n: #до половины ромба    \n",
    "            print(number, end=\"\")\n",
    "            if number <= i and check == 0: #работает если строка не достигла своего максимального значения\n",
    "                number += 1\n",
    "            else:\n",
    "                number -= 1\n",
    "                check = 1 #операция if заблокирована\n",
    "        else:\n",
    "            continue\n",
    "            \n",
    "    for j in range(spaceAmount): #написать необходимое кол-во пробелов ПОСЛЕ ромба\n",
    "        print(\" \", end=\"\")\n",
    "        \n",
    "    print(\"\") #следующая строка   "
   ]
  },
  {
   "cell_type": "markdown",
   "id": "48e5f63b",
   "metadata": {},
   "source": [
    "Не смог"
   ]
  },
  {
   "cell_type": "code",
   "execution_count": null,
   "id": "9c6371d3",
   "metadata": {},
   "outputs": [],
   "source": []
  }
 ],
 "metadata": {
  "kernelspec": {
   "display_name": "Python 3 (ipykernel)",
   "language": "python",
   "name": "python3"
  },
  "language_info": {
   "codemirror_mode": {
    "name": "ipython",
    "version": 3
   },
   "file_extension": ".py",
   "mimetype": "text/x-python",
   "name": "python",
   "nbconvert_exporter": "python",
   "pygments_lexer": "ipython3",
   "version": "3.8.12"
  }
 },
 "nbformat": 4,
 "nbformat_minor": 5
}
