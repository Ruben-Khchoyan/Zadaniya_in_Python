{
 "cells": [
  {
   "cell_type": "markdown",
   "id": "e78de3d6",
   "metadata": {},
   "source": [
    "## Самостоятельное задание #4\n",
    "Вывести третий символ этой строки."
   ]
  },
  {
   "cell_type": "code",
   "execution_count": 39,
   "id": "b6d1973f",
   "metadata": {},
   "outputs": [
    {
     "name": "stdout",
     "output_type": "stream",
     "text": [
      "b\n"
     ]
    }
   ],
   "source": [
    "row = \"Lambdadambda\"\n",
    "print(row[3])"
   ]
  },
  {
   "cell_type": "markdown",
   "id": "d416c00c",
   "metadata": {},
   "source": [
    "Вывести предпоследний символ этой строки."
   ]
  },
  {
   "cell_type": "code",
   "execution_count": 51,
   "id": "b2713d8e",
   "metadata": {},
   "outputs": [
    {
     "name": "stdout",
     "output_type": "stream",
     "text": [
      "d\n"
     ]
    }
   ],
   "source": [
    "print(row[len(row)-2])"
   ]
  },
  {
   "cell_type": "code",
   "execution_count": 52,
   "id": "1013f26b",
   "metadata": {},
   "outputs": [
    {
     "name": "stdout",
     "output_type": "stream",
     "text": [
      "d\n"
     ]
    }
   ],
   "source": [
    "print(row[-2])"
   ]
  },
  {
   "cell_type": "markdown",
   "id": "63cc5b98",
   "metadata": {},
   "source": [
    "Вывести первые пять символов этой строки."
   ]
  },
  {
   "cell_type": "code",
   "execution_count": 41,
   "id": "207673aa",
   "metadata": {},
   "outputs": [
    {
     "name": "stdout",
     "output_type": "stream",
     "text": [
      "Lambd"
     ]
    }
   ],
   "source": [
    "i=0\n",
    "while i < 5:\n",
    "    print(row[i], end='')\n",
    "    i += 1"
   ]
  },
  {
   "cell_type": "code",
   "execution_count": 54,
   "id": "3de526fb",
   "metadata": {},
   "outputs": [
    {
     "name": "stdout",
     "output_type": "stream",
     "text": [
      "Lambd\n"
     ]
    }
   ],
   "source": [
    "print(row[:5])"
   ]
  },
  {
   "cell_type": "markdown",
   "id": "6796aa43",
   "metadata": {},
   "source": [
    "Вывести строку, кроме последних двух символов."
   ]
  },
  {
   "cell_type": "code",
   "execution_count": 55,
   "id": "98e2bf3e",
   "metadata": {},
   "outputs": [
    {
     "name": "stdout",
     "output_type": "stream",
     "text": [
      "Lambdadamb"
     ]
    }
   ],
   "source": [
    "i=0\n",
    "while i < (len(row)-2):\n",
    "    print(row[i],end='')\n",
    "    i += 1"
   ]
  },
  {
   "cell_type": "code",
   "execution_count": 56,
   "id": "6440de49",
   "metadata": {},
   "outputs": [
    {
     "name": "stdout",
     "output_type": "stream",
     "text": [
      "Lambdadamb\n"
     ]
    }
   ],
   "source": [
    "print(row[:-2])"
   ]
  },
  {
   "cell_type": "markdown",
   "id": "55cb3994",
   "metadata": {},
   "source": [
    "Вывести все символы с четными индексами (считайте, что 0 - четный индекс)."
   ]
  },
  {
   "cell_type": "code",
   "execution_count": 79,
   "id": "caa04fa9",
   "metadata": {},
   "outputs": [
    {
     "name": "stdout",
     "output_type": "stream",
     "text": [
      "Lmddmd"
     ]
    }
   ],
   "source": [
    "for i in range(0, len(row), 2):\n",
    "    print(row[i], end='')\n",
    "    i +=1"
   ]
  },
  {
   "cell_type": "code",
   "execution_count": 81,
   "id": "6497ace7",
   "metadata": {},
   "outputs": [
    {
     "name": "stdout",
     "output_type": "stream",
     "text": [
      "Lmddmd\n"
     ]
    }
   ],
   "source": [
    "print(row[0::2])"
   ]
  },
  {
   "cell_type": "markdown",
   "id": "86a790e3",
   "metadata": {},
   "source": [
    "Вывести все символы с нечетными индексами."
   ]
  },
  {
   "cell_type": "code",
   "execution_count": 80,
   "id": "6fa354f0",
   "metadata": {},
   "outputs": [
    {
     "name": "stdout",
     "output_type": "stream",
     "text": [
      "abaaba"
     ]
    }
   ],
   "source": [
    "for i in range(1, len(row), 2):\n",
    "    print(row[i], end='')\n",
    "    i +=1"
   ]
  },
  {
   "cell_type": "code",
   "execution_count": 83,
   "id": "4b340542",
   "metadata": {},
   "outputs": [
    {
     "name": "stdout",
     "output_type": "stream",
     "text": [
      "abaaba\n"
     ]
    }
   ],
   "source": [
    "print(row[1::2])"
   ]
  },
  {
   "cell_type": "markdown",
   "id": "6e025ac9",
   "metadata": {},
   "source": [
    "Вывести все символы в обратном порядке."
   ]
  },
  {
   "cell_type": "code",
   "execution_count": 72,
   "id": "cddf66a6",
   "metadata": {},
   "outputs": [
    {
     "name": "stdout",
     "output_type": "stream",
     "text": [
      "adbmadadbmaL\n"
     ]
    }
   ],
   "source": [
    "print(row[::-1])"
   ]
  },
  {
   "cell_type": "markdown",
   "id": "16a9217c",
   "metadata": {},
   "source": [
    "Вывести длину данной строки."
   ]
  },
  {
   "cell_type": "code",
   "execution_count": 44,
   "id": "c7a5b28f",
   "metadata": {},
   "outputs": [
    {
     "data": {
      "text/plain": [
       "12"
      ]
     },
     "execution_count": 44,
     "metadata": {},
     "output_type": "execute_result"
    }
   ],
   "source": [
    "len(row)"
   ]
  }
 ],
 "metadata": {
  "kernelspec": {
   "display_name": "Python 3 (ipykernel)",
   "language": "python",
   "name": "python3"
  },
  "language_info": {
   "codemirror_mode": {
    "name": "ipython",
    "version": 3
   },
   "file_extension": ".py",
   "mimetype": "text/x-python",
   "name": "python",
   "nbconvert_exporter": "python",
   "pygments_lexer": "ipython3",
   "version": "3.8.12"
  }
 },
 "nbformat": 4,
 "nbformat_minor": 5
}
