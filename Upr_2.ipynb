{
 "cells": [
  {
   "cell_type": "markdown",
   "id": "048814d4",
   "metadata": {},
   "source": [
    "## Самостоятельная работа #2\n",
    "Задание 1\n",
    "Допишите функцию, которая принимает 2 числа, сравнивает между собой и возвращает наименьшее."
   ]
  },
  {
   "cell_type": "code",
   "execution_count": 6,
   "id": "34a055e8",
   "metadata": {},
   "outputs": [
    {
     "name": "stdout",
     "output_type": "stream",
     "text": [
      "5\n"
     ]
    }
   ],
   "source": [
    "a = 5\n",
    "b = 10\n",
    "if a<b:\n",
    "    print (a)\n",
    "else:\n",
    "    print (b)"
   ]
  },
  {
   "cell_type": "code",
   "execution_count": 7,
   "id": "f3ab5825",
   "metadata": {},
   "outputs": [
    {
     "data": {
      "text/plain": [
       "5"
      ]
     },
     "execution_count": 7,
     "metadata": {},
     "output_type": "execute_result"
    }
   ],
   "source": [
    "a = 5\n",
    "b = 10\n",
    "min([a,b])"
   ]
  },
  {
   "cell_type": "markdown",
   "id": "a17773b2",
   "metadata": {},
   "source": [
    "Задание 2\n",
    "Допишите функцию, которая принимает 3 числа, сравнивает между собой и возвращает наименьшее."
   ]
  },
  {
   "cell_type": "code",
   "execution_count": 9,
   "id": "8b9a9dd6",
   "metadata": {},
   "outputs": [
    {
     "name": "stdout",
     "output_type": "stream",
     "text": [
      "1\n"
     ]
    }
   ],
   "source": [
    "a = 5\n",
    "b = 10\n",
    "c = 1\n",
    "if a<b and a<c:\n",
    "    print (a)\n",
    "elif b<a and b<c:\n",
    "    print (b)\n",
    "else:\n",
    "    print (c)"
   ]
  },
  {
   "cell_type": "code",
   "execution_count": 10,
   "id": "c2f39623",
   "metadata": {},
   "outputs": [
    {
     "data": {
      "text/plain": [
       "3"
      ]
     },
     "execution_count": 10,
     "metadata": {},
     "output_type": "execute_result"
    }
   ],
   "source": [
    "a = 5\n",
    "b = 10\n",
    "c = 3\n",
    "min([a,b,c])"
   ]
  },
  {
   "cell_type": "markdown",
   "id": "628d5494",
   "metadata": {},
   "source": [
    "Задание 3\n",
    "Допишите функцию, которая принимает 3 числа, сравнивает между собой и возвращает количество совпадающих чисел. Соответственно, программа может возвращать одно из трех чисел: 3 - если совпадают все, 2 - если совпадают 2 числа, 0 - если все числа различны."
   ]
  },
  {
   "cell_type": "code",
   "execution_count": 52,
   "id": "0b1648a1",
   "metadata": {},
   "outputs": [],
   "source": [
    "a = 30\n",
    "b = 2\n",
    "c = 3"
   ]
  },
  {
   "cell_type": "code",
   "execution_count": 53,
   "id": "71666f46",
   "metadata": {},
   "outputs": [
    {
     "name": "stdout",
     "output_type": "stream",
     "text": [
      "0\n"
     ]
    }
   ],
   "source": [
    "if a==b and b==c:\n",
    "    print(\"3\")\n",
    "elif a==b and (b<c or b>c):\n",
    "    print(\"2\")\n",
    "elif a==c and (b<c or b>c):\n",
    "    print(\"2\")\n",
    "elif b==c and (a<c or a>c):\n",
    "    print(\"2\")\n",
    "else:\n",
    "    print(\"0\")"
   ]
  },
  {
   "cell_type": "code",
   "execution_count": 54,
   "id": "a3969c2f",
   "metadata": {},
   "outputs": [
    {
     "name": "stdout",
     "output_type": "stream",
     "text": [
      "0\n"
     ]
    }
   ],
   "source": [
    "if len(set([a,b,c])) == 3:\n",
    "    print (\"0\")\n",
    "elif len(set([a,b,c])) == 2:\n",
    "    print (\"2\")\n",
    "else:\n",
    "    print (\"3\")"
   ]
  }
 ],
 "metadata": {
  "kernelspec": {
   "display_name": "Python 3 (ipykernel)",
   "language": "python",
   "name": "python3"
  },
  "language_info": {
   "codemirror_mode": {
    "name": "ipython",
    "version": 3
   },
   "file_extension": ".py",
   "mimetype": "text/x-python",
   "name": "python",
   "nbconvert_exporter": "python",
   "pygments_lexer": "ipython3",
   "version": "3.8.12"
  }
 },
 "nbformat": 4,
 "nbformat_minor": 5
}
