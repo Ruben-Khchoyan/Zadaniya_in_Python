{
 "cells": [
  {
   "cell_type": "markdown",
   "id": "c9698a27",
   "metadata": {},
   "source": [
    "## Самостоятельное задание #5\n",
    "Задание 1\n",
    "Допишите функцию, которая принимает список, выбирает из него все элементы с четным индексом и возвращает их в виде списка."
   ]
  },
  {
   "cell_type": "code",
   "execution_count": 22,
   "id": "c82aeab3",
   "metadata": {},
   "outputs": [
    {
     "name": "stdout",
     "output_type": "stream",
     "text": [
      "['U', 'r', 'a', 'v', 'n', 'e', 'n', 'i', 'e']\n",
      "['U', 'a', 'n', 'n', 'e']\n"
     ]
    }
   ],
   "source": [
    "s = list('Uravnenie')\n",
    "print(s)\n",
    "print(s[0::2])"
   ]
  },
  {
   "cell_type": "markdown",
   "id": "a6235c7e",
   "metadata": {},
   "source": [
    "Задание 2\n",
    "Допишите функцию, которая принимает список, выбирает из него все элементы, которые больше предыдущего и возвращает их в виде списка."
   ]
  },
  {
   "cell_type": "code",
   "execution_count": 65,
   "id": "54f5ddef",
   "metadata": {},
   "outputs": [
    {
     "name": "stdout",
     "output_type": "stream",
     "text": [
      "['sdfse', 'sd', 'd']\n"
     ]
    }
   ],
   "source": [
    "s = ['sdf','sdfse','sd','d','hgf']\n",
    "f = 0\n",
    "while f != (len(s)):\n",
    "    if s[f] > s[f - 1]:\n",
    "        s.remove(s[f-1])\n",
    "    f += 1\n",
    "print(s)"
   ]
  },
  {
   "cell_type": "markdown",
   "id": "3d2d65bb",
   "metadata": {},
   "source": [
    "Задание 2\n",
    "Допишите функцию, которая принимает список, выбирает из него все элементы, которые больше предыдущего и возвращает их в виде списка."
   ]
  },
  {
   "cell_type": "code",
   "execution_count": 64,
   "id": "3f436de2",
   "metadata": {},
   "outputs": [
    {
     "name": "stdout",
     "output_type": "stream",
     "text": [
      "1\n",
      "sdfse\n",
      "d\n",
      "['sdf', 'sdfse', 'sd', 'd', 'hgf']\n",
      "['sdf', 'd', 'sd', 'sdfse', 'hgf']\n"
     ]
    }
   ],
   "source": [
    "s = ['sdf','sdfse','sd','d','hgf']\n",
    "f = s.index(max(s))\n",
    "print(f)\n",
    "print(max(s))\n",
    "print(min(s))\n",
    "print(s)\n",
    "s.insert(s.index(min(s)),s.pop(s.index(max(s))))\n",
    "s.insert(f,s.pop(s.index(min(s))))\n",
    "print(s)"
   ]
  }
 ],
 "metadata": {
  "kernelspec": {
   "display_name": "Python 3 (ipykernel)",
   "language": "python",
   "name": "python3"
  },
  "language_info": {
   "codemirror_mode": {
    "name": "ipython",
    "version": 3
   },
   "file_extension": ".py",
   "mimetype": "text/x-python",
   "name": "python",
   "nbconvert_exporter": "python",
   "pygments_lexer": "ipython3",
   "version": "3.8.12"
  }
 },
 "nbformat": 4,
 "nbformat_minor": 5
}
