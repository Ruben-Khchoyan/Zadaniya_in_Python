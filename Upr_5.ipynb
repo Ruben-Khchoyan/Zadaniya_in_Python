{
 "cells": [
  {
   "cell_type": "markdown",
   "id": "c9698a27",
   "metadata": {},
   "source": [
    "## Самостоятельное задание #5\n",
    "Задание 1\n",
    "Допишите функцию, которая принимает список, выбирает из него все элементы с четным индексом и возвращает их в виде списка."
   ]
  },
  {
   "cell_type": "code",
   "execution_count": 1,
   "id": "c82aeab3",
   "metadata": {},
   "outputs": [
    {
     "name": "stdout",
     "output_type": "stream",
     "text": [
      "Uravnenie\n",
      "['U', 'r', 'a', 'v', 'n', 'e', 'n', 'i', 'e']\n",
      "['U', 'a', 'n', 'n', 'e']\n"
     ]
    }
   ],
   "source": [
    "s = list(input(''))\n",
    "print(s)\n",
    "print(s[0::2])"
   ]
  },
  {
   "cell_type": "code",
   "execution_count": 1,
   "id": "3a1737a1",
   "metadata": {},
   "outputs": [
    {
     "name": "stdout",
     "output_type": "stream",
     "text": [
      "5\n",
      "sef\n",
      "sdf\n",
      "wef\n",
      "dfs\n",
      "gsg\n",
      "['sef', 'sdf', 'wef', 'dfs', 'gsg']\n",
      "['sef', 'wef', 'gsg']\n"
     ]
    }
   ],
   "source": [
    "n = int(input())\n",
    "s = []\n",
    "for i in range(n):\n",
    "    s.append(input())\n",
    "print(s)\n",
    "print(s[0::2])"
   ]
  },
  {
   "cell_type": "markdown",
   "id": "a6235c7e",
   "metadata": {},
   "source": [
    "Задание 2\n",
    "Допишите функцию, которая принимает список, выбирает из него все элементы, которые больше предыдущего и возвращает их в виде списка."
   ]
  },
  {
   "cell_type": "code",
   "execution_count": 2,
   "id": "54f5ddef",
   "metadata": {},
   "outputs": [
    {
     "name": "stdout",
     "output_type": "stream",
     "text": [
      "3\n",
      "sdfe\n",
      "sd\n",
      "d\n",
      "['sdfe', 'sd', 'd']\n",
      "['sdfe', 'sd']\n"
     ]
    }
   ],
   "source": [
    "n = int(input())\n",
    "s = []\n",
    "for i in range(n):\n",
    "    s.append(input())\n",
    "print(s)\n",
    "f = 0\n",
    "while f != (len(s)-1):\n",
    "    if s[f] > s[f - 1]:\n",
    "        s.remove(s[f-1])\n",
    "    f += 1\n",
    "print(s)"
   ]
  },
  {
   "cell_type": "markdown",
   "id": "3d2d65bb",
   "metadata": {},
   "source": [
    "Задание 2\n",
    "Допишите функцию, которая принимает список, выбирает из него все элементы, которые больше предыдущего и возвращает их в виде списка."
   ]
  },
  {
   "cell_type": "code",
   "execution_count": 3,
   "id": "3f436de2",
   "metadata": {},
   "outputs": [
    {
     "name": "stdout",
     "output_type": "stream",
     "text": [
      "5\n",
      "sdfse\n",
      "sd\n",
      "d\n",
      "fg\n",
      "sf\n",
      "['sdfse', 'sd', 'd', 'fg', 'sf']\n",
      "4\n",
      "sf\n",
      "d\n",
      "['sdfse', 'sd', 'd', 'fg', 'sf']\n",
      "['sdfse', 'sd', 'sf', 'fg', 'd']\n"
     ]
    }
   ],
   "source": [
    "n = int(input())\n",
    "s = []\n",
    "for i in range(n):\n",
    "    s.append(input())\n",
    "print(s)\n",
    "f = s.index(max(s))\n",
    "print(f)\n",
    "print(max(s))\n",
    "print(min(s))\n",
    "print(s)\n",
    "s.insert(s.index(min(s)),s.pop(s.index(max(s))))\n",
    "s.insert(f,s.pop(s.index(min(s))))\n",
    "print(s)"
   ]
  }
 ],
 "metadata": {
  "kernelspec": {
   "display_name": "Python 3 (ipykernel)",
   "language": "python",
   "name": "python3"
  },
  "language_info": {
   "codemirror_mode": {
    "name": "ipython",
    "version": 3
   },
   "file_extension": ".py",
   "mimetype": "text/x-python",
   "name": "python",
   "nbconvert_exporter": "python",
   "pygments_lexer": "ipython3",
   "version": "3.8.12"
  }
 },
 "nbformat": 4,
 "nbformat_minor": 5
}
