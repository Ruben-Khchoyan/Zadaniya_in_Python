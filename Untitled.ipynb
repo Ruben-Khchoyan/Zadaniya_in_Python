{
 "cells": [
  {
   "cell_type": "markdown",
   "id": "bd0c62a7",
   "metadata": {},
   "source": [
    "## Домашнее задание #1"
   ]
  },
  {
   "cell_type": "markdown",
   "id": "aa63dbdd",
   "metadata": {},
   "source": [
    "Для начала вам понадобится импортировать модуль numpy как np"
   ]
  },
  {
   "cell_type": "code",
   "execution_count": 2,
   "id": "1a4699ae",
   "metadata": {},
   "outputs": [],
   "source": [
    "import numpy as np"
   ]
  },
  {
   "cell_type": "markdown",
   "id": "8fae9b3c",
   "metadata": {},
   "source": [
    "Задача №1\n",
    "Считайте (через input) 2 числа:\n",
    "n - размер Numpy вектора;\n",
    "x - координата элемента вектора, который должен быть равен 1. Остальные должны быть равны 0.\n",
    "Создайте вектор размера n, в котором все элементы равны 0, кроме элемента с номером x - он равен 1."
   ]
  },
  {
   "cell_type": "code",
   "execution_count": null,
   "id": "ab933950",
   "metadata": {},
   "outputs": [],
   "source": []
  }
 ],
 "metadata": {
  "kernelspec": {
   "display_name": "Python 3 (ipykernel)",
   "language": "python",
   "name": "python3"
  },
  "language_info": {
   "codemirror_mode": {
    "name": "ipython",
    "version": 3
   },
   "file_extension": ".py",
   "mimetype": "text/x-python",
   "name": "python",
   "nbconvert_exporter": "python",
   "pygments_lexer": "ipython3",
   "version": "3.8.12"
  }
 },
 "nbformat": 4,
 "nbformat_minor": 5
}
