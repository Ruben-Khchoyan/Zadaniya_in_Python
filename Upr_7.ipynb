{
 "cells": [
  {
   "cell_type": "markdown",
   "id": "39039257",
   "metadata": {},
   "source": [
    "## Самостоятельное задание #7\n",
    "Задание 1\n",
    "Допишите функцию, которая принимает список чисел и, с помощью множеств, определяет количество различных чисел внутри списка."
   ]
  },
  {
   "cell_type": "code",
   "execution_count": 96,
   "id": "5239d6f3",
   "metadata": {},
   "outputs": [
    {
     "name": "stdout",
     "output_type": "stream",
     "text": [
      "Количество элементов в списке\n",
      "4\n",
      "34\n",
      "453\n",
      "34\n",
      "45\n",
      "['34', '453', '34', '45']\n",
      "{'453', '45', '34'}\n",
      "3\n"
     ]
    }
   ],
   "source": [
    "print ('Количество элементов в списке')\n",
    "n = int(input())\n",
    "s = []\n",
    "for i in range(n):\n",
    "    s.append(input())\n",
    "print(s)\n",
    "print(set(s))\n",
    "print(len(set(s)))"
   ]
  },
  {
   "cell_type": "markdown",
   "id": "6d4b7b66",
   "metadata": {},
   "source": [
    "Задание 2\n",
    "Допишите функцию, которая принимает несколько списков чисел и, с помощью множеств, определяет количество общих чисел из первого и второго списка."
   ]
  },
  {
   "cell_type": "code",
   "execution_count": 194,
   "id": "b401f574",
   "metadata": {},
   "outputs": [
    {
     "name": "stdout",
     "output_type": "stream",
     "text": [
      "Количество элементов в списке - 1\n",
      "3\n",
      "Числа входящие в список - 1\n",
      "2\n",
      "1\n",
      "2\n",
      "['2', '1', '2']\n",
      "Количество элементов в списке - 2\n",
      "2\n",
      "Числа входящие в список - 2\n",
      "3\n",
      "1\n",
      "['3', '1']\n",
      "Количество общих чисел у списков\n",
      "1\n"
     ]
    }
   ],
   "source": [
    "print ('Количество элементов в списке - 1')\n",
    "s = int(input())\n",
    "d1 = []\n",
    "print ('Числа входящие в список - 1')\n",
    "for i in range(s):\n",
    "    d1.append(input())\n",
    "print(d1)\n",
    "g1 = set(d1)\n",
    "\n",
    "print ('Количество элементов в списке - 2')\n",
    "s = int(input())\n",
    "d2 = []\n",
    "print ('Числа входящие в список - 2')\n",
    "for j in range(s):\n",
    "    d2.append(input())\n",
    "print(d2)\n",
    "g2 = set(d2)\n",
    "\n",
    "print('Количество общих чисел у списков')\n",
    "print(len(g1 & g2)) # пересечение двух множеств"
   ]
  }
 ],
 "metadata": {
  "kernelspec": {
   "display_name": "Python 3 (ipykernel)",
   "language": "python",
   "name": "python3"
  },
  "language_info": {
   "codemirror_mode": {
    "name": "ipython",
    "version": 3
   },
   "file_extension": ".py",
   "mimetype": "text/x-python",
   "name": "python",
   "nbconvert_exporter": "python",
   "pygments_lexer": "ipython3",
   "version": "3.8.12"
  }
 },
 "nbformat": 4,
 "nbformat_minor": 5
}
