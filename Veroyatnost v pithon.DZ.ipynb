{
 "cells": [
  {
   "cell_type": "markdown",
   "id": "8f1a0216",
   "metadata": {},
   "source": [
    " ## Вероятность в Python. Домашнее задание."
   ]
  },
  {
   "cell_type": "markdown",
   "id": "93e90df5",
   "metadata": {},
   "source": [
    "Один самолет вылетел из Москвы, и должен совершить посадку в 5 городах. Необходимо узнать, количество городов, в которых может приземлиться в первый, второй, третий город."
   ]
  },
  {
   "cell_type": "code",
   "execution_count": 1,
   "id": "1751a89e",
   "metadata": {},
   "outputs": [],
   "source": [
    "def factorial(n):\n",
    "    if n == 1: return 1\n",
    "    else: return n * factorial(n-1)"
   ]
  },
  {
   "cell_type": "code",
   "execution_count": 2,
   "id": "91aa5266",
   "metadata": {},
   "outputs": [
    {
     "data": {
      "text/plain": [
       "60.0"
      ]
     },
     "execution_count": 2,
     "metadata": {},
     "output_type": "execute_result"
    }
   ],
   "source": [
    "factorial(5)/factorial(5-3)"
   ]
  },
  {
   "cell_type": "markdown",
   "id": "a48c9a38",
   "metadata": {},
   "source": [
    "Осьминог Пауль 16 раз пробовал угадать победителя футбольного матча. 14 раз он угадал правильно, 2 раза ошибся. Проверьте гипотезу H0: Пауль выбирает победителя футбольного матча случайно. Сделайте вывод. (сложная задача)"
   ]
  },
  {
   "cell_type": "code",
   "execution_count": 62,
   "id": "44d63def",
   "metadata": {},
   "outputs": [],
   "source": [
    "def combination_without_repetition(n, r):\n",
    "    return factorial(n)/ (factorial(r) * factorial(n-r))"
   ]
  },
  {
   "cell_type": "code",
   "execution_count": 63,
   "id": "640d091c",
   "metadata": {},
   "outputs": [
    {
     "name": "stdout",
     "output_type": "stream",
     "text": [
      "0.625\n"
     ]
    }
   ],
   "source": [
    "s = 2**(-3)*5\n",
    "print(s)"
   ]
  },
  {
   "cell_type": "code",
   "execution_count": 75,
   "id": "fd63d63c",
   "metadata": {},
   "outputs": [
    {
     "name": "stdout",
     "output_type": "stream",
     "text": [
      "0.123779296875\n",
      "Н0 отвергается, так как данное значение вероятности не является вероятностью того, что Пауль выбирает победителя наугад\n"
     ]
    }
   ],
   "source": [
    "p = 13\n",
    "d = 11\n",
    "g = 1\n",
    "for i in range(d, p):\n",
    "    g = g*combination_without_repetition(p, i)\n",
    "s = 2**(-p)*g\n",
    "print(s)\n",
    "if s < 0.5:\n",
    "    print('Н0 отвергается, так как данное значение вероятности не является вероятностью того, что Пауль выбирает победителя наугад')\n",
    "else:\n",
    "    print('Н0 не отвергается. Пауль выбирает победителя наугад')"
   ]
  }
 ],
 "metadata": {
  "kernelspec": {
   "display_name": "Python 3 (ipykernel)",
   "language": "python",
   "name": "python3"
  },
  "language_info": {
   "codemirror_mode": {
    "name": "ipython",
    "version": 3
   },
   "file_extension": ".py",
   "mimetype": "text/x-python",
   "name": "python",
   "nbconvert_exporter": "python",
   "pygments_lexer": "ipython3",
   "version": "3.8.12"
  }
 },
 "nbformat": 4,
 "nbformat_minor": 5
}
